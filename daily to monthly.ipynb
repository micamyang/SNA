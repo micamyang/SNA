{
 "cells": [
  {
   "cell_type": "code",
   "execution_count": 1,
   "id": "ede3e2f4-fd82-41a0-9cf4-ec8b25f76563",
   "metadata": {},
   "outputs": [
    {
     "name": "stderr",
     "output_type": "stream",
     "text": [
      "C:\\Users\\lovey\\AppData\\Local\\Temp\\ipykernel_28964\\3865341077.py:10: FutureWarning: 'M' is deprecated and will be removed in a future version, please use 'ME' instead.\n",
      "  monthly_df = df.groupby(pd.Grouper(key='date', freq='M'))['new cases'].sum().reset_index()\n"
     ]
    }
   ],
   "source": [
    "import pandas as pd\n",
    "\n",
    "df = pd.read_csv('daily H1N1.csv')\n",
    "\n",
    "df['date'] = pd.to_datetime(df['date'])\n",
    "\n",
    "monthly_df = df.groupby(pd.Grouper(key='date', freq='M'))['new cases'].sum().reset_index()\n",
    "\n",
    "monthly_df.to_csv('monthly H1N1.csv', index=False)"
   ]
  },
  {
   "cell_type": "code",
   "execution_count": null,
   "id": "4ba80e85-5ef3-49a9-ab65-a5bc11091208",
   "metadata": {},
   "outputs": [],
   "source": []
  }
 ],
 "metadata": {
  "kernelspec": {
   "display_name": "Python 3 (ipykernel)",
   "language": "python",
   "name": "python3"
  },
  "language_info": {
   "codemirror_mode": {
    "name": "ipython",
    "version": 3
   },
   "file_extension": ".py",
   "mimetype": "text/x-python",
   "name": "python",
   "nbconvert_exporter": "python",
   "pygments_lexer": "ipython3",
   "version": "3.12.2"
  }
 },
 "nbformat": 4,
 "nbformat_minor": 5
}
