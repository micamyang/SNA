{
 "cells": [
  {
   "cell_type": "code",
   "execution_count": 1,
   "id": "a314a42b-5548-4221-a77f-7c658692a908",
   "metadata": {},
   "outputs": [],
   "source": [
    "import pandas as pd"
   ]
  },
  {
   "cell_type": "code",
   "execution_count": 2,
   "id": "2fe205be-5150-4290-a401-aa25a9543124",
   "metadata": {},
   "outputs": [],
   "source": [
    "# Load datasets\n",
    "index_data = pd.read_csv('Index-attention.csv')\n",
    "disease_data = pd.read_csv('disease-attention.csv')"
   ]
  },
  {
   "cell_type": "code",
   "execution_count": 3,
   "id": "b34990e4-b06e-4122-a384-31ee6b2af5c5",
   "metadata": {},
   "outputs": [],
   "source": [
    "# Merge datasets based on the 'Date' column\n",
    "combined_data = pd.merge(index_data, disease_data, on='Date', how='outer')"
   ]
  },
  {
   "cell_type": "code",
   "execution_count": 7,
   "id": "98389909-4b62-438b-ac81-5ee3571644a5",
   "metadata": {},
   "outputs": [],
   "source": [
    "# Create undirected edges for Temporary-Temporary connections based on 'Term' values\n",
    "temporary_temporary_edges = set()\n",
    "for i in range(len(combined_data)):\n",
    "    for j in range(i + 1, len(combined_data)):  # Ensure i < j to avoid duplicating undirected edges\n",
    "        term_i = combined_data.loc[i, 'Term']\n",
    "        term_j = combined_data.loc[j, 'Term']\n",
    "        if term_i == term_j:\n",
    "            date_i = combined_data.loc[i, 'Date']\n",
    "            date_j = combined_data.loc[j, 'Date']\n",
    "            temporary_temporary_edges.add((date_i, date_j, 'Temporary-Temporary', term_i))"
   ]
  },
  {
   "cell_type": "code",
   "execution_count": 9,
   "id": "8d7883fa-4542-4cb1-b3c9-3da3cc59cba0",
   "metadata": {},
   "outputs": [],
   "source": [
    "# Create edges and weights for Temporary-Index connections\n",
    "temporary_index_edges = []\n",
    "for i in range(len(combined_data)):\n",
    "    date = combined_data.loc[i, 'Date']\n",
    "    \n",
    "    nasdaq_change = combined_data.loc[i, 'NASDAQ']\n",
    "    sp500_change = combined_data.loc[i, 'S&P 500']\n",
    "    dowjones_change = combined_data.loc[i, 'Dow Jones']\n",
    "    \n",
    "    temporary_index_edges.append((date, 'NASDAQ', 'Temporary-Index', nasdaq_change))\n",
    "    temporary_index_edges.append((date, 'S&P 500', 'Temporary-Index', sp500_change))\n",
    "    temporary_index_edges.append((date, 'Dow Jones', 'Temporary-Index', dowjones_change))\n"
   ]
  },
  {
   "cell_type": "code",
   "execution_count": 10,
   "id": "702e7bcd-acdd-40ea-b6dd-37d1d3ecf1d8",
   "metadata": {},
   "outputs": [],
   "source": [
    "# Convert edges to DataFrame\n",
    "temporary_temporary_df = pd.DataFrame(temporary_temporary_edges, columns=['Source node', 'Target node', 'Edge Type', 'Attribute'])\n",
    "temporary_index_df = pd.DataFrame(temporary_index_edges, columns=['Source node', 'Target node', 'Edge Type', 'Attribute'])\n",
    "\n",
    "# Concatenate edge DataFrames\n",
    "edges_df = pd.concat([temporary_temporary_df, temporary_index_df])"
   ]
  },
  {
   "cell_type": "code",
   "execution_count": 11,
   "id": "3d45ae1c-5b90-43bf-868f-a0e43e41be8b",
   "metadata": {},
   "outputs": [],
   "source": [
    "# Save combined dataset\n",
    "edges_df.to_csv('Attention.csv', index=False)"
   ]
  }
 ],
 "metadata": {
  "kernelspec": {
   "display_name": "Python 3 (ipykernel)",
   "language": "python",
   "name": "python3"
  },
  "language_info": {
   "codemirror_mode": {
    "name": "ipython",
    "version": 3
   },
   "file_extension": ".py",
   "mimetype": "text/x-python",
   "name": "python",
   "nbconvert_exporter": "python",
   "pygments_lexer": "ipython3",
   "version": "3.12.2"
  }
 },
 "nbformat": 4,
 "nbformat_minor": 5
}
